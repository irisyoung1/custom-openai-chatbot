{
 "cells": [
  {
   "cell_type": "markdown",
   "id": "124e5672",
   "metadata": {},
   "source": [
    "# Custom Chatbot Project"
   ]
  },
  {
   "cell_type": "markdown",
   "id": "2a4a94b3",
   "metadata": {},
   "source": [
    "In this project I'm going to use the **2023 Fashion Trends** dataset, which contains information about recent fashion developments and styles. This dataset is appropriate for demonstrating a chatbot that can answer questions about fashion trends, designers, and style changes in 2023."
   ]
  },
  {
   "cell_type": "markdown",
   "id": "a63d4c5f",
   "metadata": {},
   "source": [
    "## Data Wrangling"
   ]
  },
  {
   "cell_type": "code",
   "execution_count": 1,
   "id": "c69b83a1",
   "metadata": {},
   "outputs": [],
   "source": [
    "# Some imports required for this notebook\n",
    "import pandas as pd\n",
    "import numpy as np\n",
    "import requests\n",
    "import os\n",
    "from dotenv import load_dotenv\n",
    "\n",
    "from utils import *"
   ]
  },
  {
   "cell_type": "code",
   "execution_count": 2,
   "id": "8e9b9d9d",
   "metadata": {},
   "outputs": [],
   "source": [
    "# Set openai api key by providing a valid key or text file containing the key.\n",
    "load_dotenv(\".config.env\")\n",
    "OPENAI_KEY = os.getenv('OPENAI_API_KEY')\n",
    "OPENAI_URL = os.getenv('OPENAI_BASE_URL')\n",
    "set_api_key(OPENAI_KEY, OPENAI_URL)\n",
    "\n",
    "# Create a configuration object\n",
    "config = create_config({\n",
    "    'EMBEDDING_MODEL_NAME': 'text-embedding-ada-002',\n",
    "    'COMPLETION_MODEL_NAME': 'gpt-4o-mini',\n",
    "    'ENCODING': 'cl100k_base',\n",
    "    'MAX_PROMPT_TOKENS': 2000,\n",
    "    'MAX_RESPONSE_TOKENS': 150,\n",
    "    'BATCH_SIZE': 100,\n",
    "    'FROM_SCRATCH': True\n",
    "})"
   ]
  },
  {
   "cell_type": "code",
   "execution_count": 3,
   "id": "a7d874a0",
   "metadata": {},
   "outputs": [],
   "source": [
    "if config.FROM_SCRATCH:\n",
    "    df = pd.read_csv('./data/source/2023_fashion_trends.csv')\n",
    "    df = clean_csv_data(df)\n",
    "else:\n",
    "    # Load cleaned data from csv file\n",
    "    df = pd.read_csv('./data/results/df_preprocessed.csv', index_col = 0)"
   ]
  },
  {
   "cell_type": "code",
   "execution_count": 4,
   "id": "acb3a9fd",
   "metadata": {},
   "outputs": [],
   "source": [
    "# EMBEDDINGS \n",
    "\n",
    "if config.FROM_SCRATCH:\n",
    "    # Get embeddings for all text rows from openai and store in csv file\n",
    "    df['embeddings'] = get_embeddings(df, config)\n",
    "    df.to_csv('./data/results/df_embeddings.csv', index=False)\n",
    "    df['embeddings'] = df['embeddings'].apply(np.array)\n",
    "else:\n",
    "    # Load preprocessed date with embeddings from csv file\n",
    "    df = pd.read_csv('./data/results/df_embeddings.csv', index_col = 0)\n",
    "    df['embeddings'] = df['embeddings'].apply(eval).apply(np.array)"
   ]
  },
  {
   "cell_type": "code",
   "execution_count": 5,
   "id": "d1cf97cf",
   "metadata": {},
   "outputs": [
    {
     "data": {
      "text/html": [
       "<div>\n",
       "<style scoped>\n",
       "    .dataframe tbody tr th:only-of-type {\n",
       "        vertical-align: middle;\n",
       "    }\n",
       "\n",
       "    .dataframe tbody tr th {\n",
       "        vertical-align: top;\n",
       "    }\n",
       "\n",
       "    .dataframe thead th {\n",
       "        text-align: right;\n",
       "    }\n",
       "</style>\n",
       "<table border=\"1\" class=\"dataframe\">\n",
       "  <thead>\n",
       "    <tr style=\"text-align: right;\">\n",
       "      <th></th>\n",
       "      <th>text</th>\n",
       "      <th>embeddings</th>\n",
       "    </tr>\n",
       "  </thead>\n",
       "  <tbody>\n",
       "    <tr>\n",
       "      <th>0</th>\n",
       "      <td>2023 Fashion Trend: Red.</td>\n",
       "      <td>[-0.01590677909553051, -0.028028665110468864, ...</td>\n",
       "    </tr>\n",
       "    <tr>\n",
       "      <th>1</th>\n",
       "      <td>Glossy red hues took over the Fall 2023 runway...</td>\n",
       "      <td>[-0.018273593857884407, -0.022659776732325554,...</td>\n",
       "    </tr>\n",
       "    <tr>\n",
       "      <th>2</th>\n",
       "      <td>Think: Juicy reds with vibrant orange underton...</td>\n",
       "      <td>[-0.02649392932653427, -0.017718786373734474, ...</td>\n",
       "    </tr>\n",
       "    <tr>\n",
       "      <th>3</th>\n",
       "      <td>7 Fashion Trends That Will Take Over 2023 — Sh...</td>\n",
       "      <td>[-0.008027786388993263, -0.010925652459263802,...</td>\n",
       "    </tr>\n",
       "    <tr>\n",
       "      <th>4</th>\n",
       "      <td>2023 Fashion Trend: Cargo Pants.</td>\n",
       "      <td>[-0.006155569106340408, -0.02691546455025673, ...</td>\n",
       "    </tr>\n",
       "  </tbody>\n",
       "</table>\n",
       "</div>"
      ],
      "text/plain": [
       "                                                text  \\\n",
       "0                           2023 Fashion Trend: Red.   \n",
       "1  Glossy red hues took over the Fall 2023 runway...   \n",
       "2  Think: Juicy reds with vibrant orange underton...   \n",
       "3  7 Fashion Trends That Will Take Over 2023 — Sh...   \n",
       "4                   2023 Fashion Trend: Cargo Pants.   \n",
       "\n",
       "                                          embeddings  \n",
       "0  [-0.01590677909553051, -0.028028665110468864, ...  \n",
       "1  [-0.018273593857884407, -0.022659776732325554,...  \n",
       "2  [-0.02649392932653427, -0.017718786373734474, ...  \n",
       "3  [-0.008027786388993263, -0.010925652459263802,...  \n",
       "4  [-0.006155569106340408, -0.02691546455025673, ...  "
      ]
     },
     "execution_count": 5,
     "metadata": {},
     "output_type": "execute_result"
    }
   ],
   "source": [
    "df.head()"
   ]
  },
  {
   "cell_type": "markdown",
   "id": "ae769871",
   "metadata": {},
   "source": [
    "## Custom Query Completion"
   ]
  },
  {
   "cell_type": "code",
   "execution_count": 6,
   "id": "9ae0665e",
   "metadata": {},
   "outputs": [
    {
     "name": "stdout",
     "output_type": "stream",
     "text": [
      "The top fashion trends in 2023 include:\n",
      "\n",
      "1. Red\n",
      "2. Denim Reimagined\n",
      "3. Cobalt Blue\n",
      "4. Sheer Clothing\n",
      "5. Maxi Skirts\n",
      "6. Shine For The Daytime\n",
      "7. Cargo Pants\n",
      "8. Utilitarian wear\n",
      "9. Naked dressing\n",
      "10. Pared-back approaches to wardrobe\n",
      "11. Neo-minimalism\n",
      "12. 3D designs and floral motifs\n",
      "13. Canadian tuxedo revival\n",
      "14. Glossy red hues\n",
      "15. Slinky, draped dresses and skirts.\n"
     ]
    }
   ],
   "source": [
    "answer = answer_question(\"What are the top fashion trends in 2023?\", df, config, custom=True)\n",
    "print(answer)"
   ]
  },
  {
   "cell_type": "code",
   "execution_count": 7,
   "id": "dc82b79a",
   "metadata": {},
   "outputs": [
    {
     "name": "stdout",
     "output_type": "stream",
     "text": [
      "I don't know.\n"
     ]
    }
   ],
   "source": [
    "# Example question and answer\n",
    "answer = answer_question(\"Which designer influenced the 2023 fashion trends the most?\", df, config, custom=True)\n",
    "print(answer)"
   ]
  },
  {
   "cell_type": "markdown",
   "id": "1783f146",
   "metadata": {},
   "source": [
    "## Custom Performance Demonstration\n"
   ]
  },
  {
   "cell_type": "markdown",
   "id": "4f11fdc0",
   "metadata": {},
   "source": [
    "### Question 1"
   ]
  },
  {
   "cell_type": "code",
   "execution_count": 8,
   "id": "4901c850",
   "metadata": {},
   "outputs": [
    {
     "name": "stdout",
     "output_type": "stream",
     "text": [
      "Popular colors in the 2023 fashion trends include red, cobalt blue, and various bold colors such as lilac, pale yellow, baby blue, and ice-cream shades. Additionally, shades of saffron and colors beyond khaki and olive are noted as well.\n"
     ]
    }
   ],
   "source": [
    "# Question with context\n",
    "print(answer_question('What colors are popular in 2023 fashion trends?', df, config, custom=True))"
   ]
  },
  {
   "cell_type": "code",
   "execution_count": 9,
   "id": "bd7a093b",
   "metadata": {},
   "outputs": [
    {
     "name": "stdout",
     "output_type": "stream",
     "text": [
      "I don't know.\n"
     ]
    }
   ],
   "source": [
    "# Same question without context\n",
    "print(answer_question('What colors are popular in 2023 fashion trends?', df, config, custom=False))"
   ]
  },
  {
   "cell_type": "markdown",
   "id": "6e86e37c",
   "metadata": {},
   "source": [
    "### Question 2"
   ]
  },
  {
   "cell_type": "code",
   "execution_count": 10,
   "id": "6f646989",
   "metadata": {},
   "outputs": [
    {
     "name": "stdout",
     "output_type": "stream",
     "text": [
      "Based on the context, notable materials used in 2023 fashion collections include silk, organza, leather, thicker fabrications, PVC, and various printed fabrics. Additionally, there is an exploration of innovative materials like Fabrica and a focus on shiny metallics.\n"
     ]
    }
   ],
   "source": [
    "print(answer_question('Which materials are most used in 2023 fashion collections?', df, config, custom=True))"
   ]
  },
  {
   "cell_type": "code",
   "execution_count": 11,
   "id": "519fa8f9",
   "metadata": {},
   "outputs": [
    {
     "name": "stdout",
     "output_type": "stream",
     "text": [
      "I don't know.\n"
     ]
    }
   ],
   "source": [
    "print(answer_question('Which materials are most used in 2023 fashion collections?', df, config, custom=False))"
   ]
  },
  {
   "cell_type": "markdown",
   "id": "1257528d",
   "metadata": {},
   "source": [
    "## Chat Bot"
   ]
  },
  {
   "cell_type": "code",
   "execution_count": 15,
   "id": "e6871037",
   "metadata": {},
   "outputs": [
    {
     "name": "stdout",
     "output_type": "stream",
     "text": [
      "Hello, what do you want to know?\n",
      "\n",
      "User: What are trends of Fringe in fashion trend in 2023?\n",
      "Bot: Fringe has long been associated with boho, western-influenced style, but it’s going in a new direction this spring. The context does not provide specific details about the new direction for fringe in 2023 fashion trends.\n",
      "User: Are there any fashion trends about '90s in 2023?\n",
      "Bot: Yes, there are several fashion trends in 2023 that are inspired by the '90s, including denim maxi skirts, bomber jackets, biker jackets, and ballet shoes. Additionally, there is a general return of '90s influences, such as grunge and minimalism.\n",
      "User: What are fashion trend about sports in 2023?\n",
      "Bot: Sport holds a huge influence over fashion, exemplified by items like the tennis skirt and cricket jumper, which confirms that sports trends are integrated into fashion. However, the specific fashion trends related to sports in 2023 are not detailed in the provided context. Therefore, I don't know.\n",
      "\n",
      "Good bye!\n"
     ]
    }
   ],
   "source": [
    "print('Hello, what do you want to know?\\n')\n",
    "while True:\n",
    "    question = input('You: ')\n",
    "    if len(question) > 0:\n",
    "        print(f\"User: {question}\")\n",
    "        print(f'Bot: {answer_question(question, df, config, custom=True)}', end='\\n')\n",
    "    else:\n",
    "        print('\\nGood bye!')\n",
    "        break"
   ]
  },
  {
   "cell_type": "code",
   "execution_count": null,
   "id": "fcfab3bb",
   "metadata": {},
   "outputs": [],
   "source": []
  }
 ],
 "metadata": {
  "kernelspec": {
   "display_name": ".env",
   "language": "python",
   "name": "python3"
  },
  "language_info": {
   "codemirror_mode": {
    "name": "ipython",
    "version": 3
   },
   "file_extension": ".py",
   "mimetype": "text/x-python",
   "name": "python",
   "nbconvert_exporter": "python",
   "pygments_lexer": "ipython3",
   "version": "3.13.5"
  }
 },
 "nbformat": 4,
 "nbformat_minor": 5
}
