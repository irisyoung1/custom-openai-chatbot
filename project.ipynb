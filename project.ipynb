{
 "cells": [
  {
   "cell_type": "markdown",
   "id": "124e5672",
   "metadata": {},
   "source": [
    "# Custom Chatbot Project"
   ]
  },
  {
   "cell_type": "markdown",
   "id": "2a4a94b3",
   "metadata": {},
   "source": [
    "In this project I'm going to use the **2023 Fashion Trends** dataset, which contains information about recent fashion developments and styles. This dataset is appropriate for demonstrating a chatbot that can answer questions about fashion trends, designers, and style changes in 2023."
   ]
  },
  {
   "cell_type": "markdown",
   "id": "a63d4c5f",
   "metadata": {},
   "source": [
    "## Data Wrangling"
   ]
  },
  {
   "cell_type": "code",
   "execution_count": null,
   "id": "c69b83a1",
   "metadata": {},
   "outputs": [],
   "source": [
    "# Some imports required for this notebook\n",
    "import pandas as pd\n",
    "import numpy as np\n",
    "import requests\n",
    "import os\n",
    "from dotenv import load_dotenv\n",
    "\n",
    "from utils import *"
   ]
  },
  {
   "cell_type": "code",
   "execution_count": null,
   "id": "8e9b9d9d",
   "metadata": {},
   "outputs": [],
   "source": [
    "# Set openai api key by providing a valid key or text file containing the key.\n",
    "load_dotenv(\".config.env\")\n",
    "OPENAI_KEY = os.getenv('OPENAI_API_KEY')\n",
    "OPENAI_URL = os.getenv('OPENAI_BASE_URL')\n",
    "set_api_key(OPENAI_KEY, OPENAI_URL)\n",
    "\n",
    "# Create a configuration object\n",
    "config = create_config({\n",
    "    'EMBEDDING_MODEL_NAME': 'text-embedding-ada-002',\n",
    "    'COMPLETION_MODEL_NAME': 'gpt-4o-mini',\n",
    "    'ENCODING': 'cl100k_base',\n",
    "    'MAX_PROMPT_TOKENS': 2000,\n",
    "    'MAX_RESPONSE_TOKENS': 150,\n",
    "    'BATCH_SIZE': 100,\n",
    "    'FROM_SCRATCH': True\n",
    "})"
   ]
  },
  {
   "cell_type": "code",
   "execution_count": null,
   "id": "a7d874a0",
   "metadata": {},
   "outputs": [],
   "source": [
    "if config.FROM_SCRATCH:\n",
    "    df = pd.read_csv('./data/source/2023_fashion_trends.csv')\n",
    "    df = clean_csv_data(df)\n",
    "else:\n",
    "    # Load cleaned data from csv file\n",
    "    df = pd.read_csv('./data/results/df_preprocessed.csv', index_col = 0)"
   ]
  },
  {
   "cell_type": "code",
   "execution_count": null,
   "id": "acb3a9fd",
   "metadata": {},
   "outputs": [],
   "source": [
    "# EMBEDDINGS \n",
    "\n",
    "if config.FROM_SCRATCH:\n",
    "    # Get embeddings for all text rows from openai and store in csv file\n",
    "    df['embeddings'] = get_embeddings(df, config)\n",
    "    df.to_csv('./data/results/df_embeddings.csv', index=False)\n",
    "    df['embeddings'] = df['embeddings'].apply(np.array)\n",
    "else:\n",
    "    # Load preprocessed date with embeddings from csv file\n",
    "    df = pd.read_csv('./data/results/df_embeddings.csv', index_col = 0)\n",
    "    df['embeddings'] = df['embeddings'].apply(eval).apply(np.array)"
   ]
  },
  {
   "cell_type": "code",
   "execution_count": null,
   "id": "d1cf97cf",
   "metadata": {},
   "outputs": [],
   "source": [
    "df.head()"
   ]
  },
  {
   "cell_type": "markdown",
   "id": "ae769871",
   "metadata": {},
   "source": [
    "## Custom Query Completion"
   ]
  },
  {
   "cell_type": "code",
   "execution_count": null,
   "id": "9ae0665e",
   "metadata": {},
   "outputs": [],
   "source": [
    "answer = answer_question(\"What are the top fashion trends in 2023?\", df, config, custom=True)\n",
    "print(answer)"
   ]
  },
  {
   "cell_type": "code",
   "execution_count": null,
   "id": "dc82b79a",
   "metadata": {},
   "outputs": [],
   "source": [
    "# Example question and answer\n",
    "answer = answer_question(\"Which designer influenced the 2023 fashion trends the most?\", df, config, custom=True)\n",
    "print(answer)"
   ]
  },
  {
   "cell_type": "markdown",
   "id": "1783f146",
   "metadata": {},
   "source": [
    "## Custom Performance Demonstration\n",
    "\n",
    "TODO: In the cells below, demonstrate the performance of your custom query using at least 2 questions. For each question, show the answer from a basic `Completion` model query as well as the answer from your custom query."
   ]
  },
  {
   "cell_type": "markdown",
   "id": "4f11fdc0",
   "metadata": {},
   "source": [
    "### Question 1"
   ]
  },
  {
   "cell_type": "code",
   "execution_count": null,
   "id": "4901c850",
   "metadata": {},
   "outputs": [],
   "source": [
    "# Question with context\n",
    "print(answer_question('What colors are popular in 2023 fashion trends?', df, config, custom=True))"
   ]
  },
  {
   "cell_type": "code",
   "execution_count": null,
   "id": "bd7a093b",
   "metadata": {},
   "outputs": [],
   "source": [
    "# Same question without context\n",
    "print(answer_question('What colors are popular in 2023 fashion trends?', df, config, custom=False))"
   ]
  },
  {
   "cell_type": "markdown",
   "id": "6e86e37c",
   "metadata": {},
   "source": [
    "### Question 2"
   ]
  },
  {
   "cell_type": "code",
   "execution_count": null,
   "id": "6f646989",
   "metadata": {},
   "outputs": [],
   "source": [
    "print(answer_question('Which materials are most used in 2023 fashion collections?', df, config, custom=True))"
   ]
  },
  {
   "cell_type": "code",
   "execution_count": null,
   "id": "519fa8f9",
   "metadata": {},
   "outputs": [],
   "source": [
    "print(answer_question('Which materials are most used in 2023 fashion collections?', df, config, custom=False))"
   ]
  },
  {
   "cell_type": "markdown",
   "id": "1257528d",
   "metadata": {},
   "source": [
    "## Chat Bot"
   ]
  },
  {
   "cell_type": "code",
   "execution_count": null,
   "id": "e6871037",
   "metadata": {},
   "outputs": [],
   "source": [
    "print('Hello, what do you want to know?\\n')\n",
    "while True:\n",
    "    question = input('You: ')\n",
    "    if len(question) > 0:\n",
    "        print(f'\\nBot: {answer_question(question, df, config, custom=True)}', end='\\n\\n')\n",
    "    else:\n",
    "        print('\\nGood bye!')\n",
    "        break"
   ]
  }
 ],
 "metadata": {
  "kernelspec": {
   "display_name": ".env",
   "language": "python",
   "name": "python3"
  },
  "language_info": {
   "codemirror_mode": {
    "name": "ipython",
    "version": 3
   },
   "file_extension": ".py",
   "mimetype": "text/x-python",
   "name": "python",
   "nbconvert_exporter": "python",
   "pygments_lexer": "ipython3",
   "version": "3.13.5"
  }
 },
 "nbformat": 4,
 "nbformat_minor": 5
}
